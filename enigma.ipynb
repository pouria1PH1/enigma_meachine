{
 "cells": [
  {
   "attachments": {},
   "cell_type": "markdown",
   "metadata": {},
   "source": [
    "import dependencies"
   ]
  },
  {
   "cell_type": "code",
   "execution_count": 273,
   "metadata": {},
   "outputs": [],
   "source": [
    "\n",
    "import random\n",
    "import pandas as pd"
   ]
  },
  {
   "attachments": {},
   "cell_type": "markdown",
   "metadata": {},
   "source": [
    "create refelctor "
   ]
  },
  {
   "cell_type": "code",
   "execution_count": 274,
   "metadata": {},
   "outputs": [],
   "source": [
    "\n",
    "reflector = \"a b c d e f g h i j k l m n o p q r s t u v w x y z\".split()\n",
    "\n"
   ]
  },
  {
   "attachments": {},
   "cell_type": "markdown",
   "metadata": {},
   "source": [
    "create random rotors "
   ]
  },
  {
   "cell_type": "code",
   "execution_count": 275,
   "metadata": {},
   "outputs": [],
   "source": [
    "\n",
    "rotor1 = reflector.copy()\n",
    "rotor2 = reflector.copy()\n",
    "rotor3 = reflector.copy()\n",
    "\n",
    "#Create consistent results\n",
    "random.seed(0)\n",
    "\n",
    "#create random rotors\n",
    "random.shuffle(rotor1)\n",
    "random.shuffle(rotor2)\n",
    "random.shuffle(rotor3)"
   ]
  },
  {
   "attachments": {},
   "cell_type": "markdown",
   "metadata": {},
   "source": [
    "create dictoanary  for reflector "
   ]
  },
  {
   "cell_type": "code",
   "execution_count": 276,
   "metadata": {},
   "outputs": [],
   "source": [
    "# for example:   a->z  b->y"
   ]
  },
  {
   "cell_type": "code",
   "execution_count": 277,
   "metadata": {},
   "outputs": [
    {
     "data": {
      "text/plain": [
       "{'a': 'z',\n",
       " 'b': 'y',\n",
       " 'c': 'x',\n",
       " 'd': 'w',\n",
       " 'e': 'v',\n",
       " 'f': 'u',\n",
       " 'g': 't',\n",
       " 'h': 's',\n",
       " 'i': 'r',\n",
       " 'j': 'q',\n",
       " 'k': 'p',\n",
       " 'l': 'o',\n",
       " 'm': 'n',\n",
       " 'n': 'm',\n",
       " 'o': 'l',\n",
       " 'p': 'k',\n",
       " 'q': 'j',\n",
       " 'r': 'i',\n",
       " 's': 'h',\n",
       " 't': 'g',\n",
       " 'u': 'f',\n",
       " 'v': 'e',\n",
       " 'w': 'd',\n",
       " 'x': 'c',\n",
       " 'y': 'b',\n",
       " 'z': 'a'}"
      ]
     },
     "execution_count": 277,
     "metadata": {},
     "output_type": "execute_result"
    }
   ],
   "source": [
    "alephba = reflector.copy()\n",
    "reverse_alephba=alephba[::-1]\n",
    "\n",
    "\n",
    "\n",
    "dict_reflector={}\n",
    "\n",
    "index=0\n",
    "for word in alephba:\n",
    "    dict_reflector[word]=reverse_alephba[index]\n",
    "    index+=1    \n",
    "dict_reflector\n"
   ]
  },
  {
   "attachments": {},
   "cell_type": "markdown",
   "metadata": {},
   "source": [
    "create data frame\n"
   ]
  },
  {
   "cell_type": "code",
   "execution_count": 278,
   "metadata": {},
   "outputs": [
    {
     "data": {
      "text/html": [
       "<div>\n",
       "<style scoped>\n",
       "    .dataframe tbody tr th:only-of-type {\n",
       "        vertical-align: middle;\n",
       "    }\n",
       "\n",
       "    .dataframe tbody tr th {\n",
       "        vertical-align: top;\n",
       "    }\n",
       "\n",
       "    .dataframe thead th {\n",
       "        text-align: right;\n",
       "    }\n",
       "</style>\n",
       "<table border=\"1\" class=\"dataframe\">\n",
       "  <thead>\n",
       "    <tr style=\"text-align: right;\">\n",
       "      <th></th>\n",
       "      <th>rotor1</th>\n",
       "      <th>alephba1</th>\n",
       "      <th>rotor2</th>\n",
       "      <th>alephba2</th>\n",
       "      <th>rotor3</th>\n",
       "      <th>alephba3</th>\n",
       "      <th>reflector</th>\n",
       "    </tr>\n",
       "  </thead>\n",
       "  <tbody>\n",
       "    <tr>\n",
       "      <th>0</th>\n",
       "      <td>o</td>\n",
       "      <td>a</td>\n",
       "      <td>q</td>\n",
       "      <td>a</td>\n",
       "      <td>j</td>\n",
       "      <td>a</td>\n",
       "      <td>a</td>\n",
       "    </tr>\n",
       "    <tr>\n",
       "      <th>1</th>\n",
       "      <td>a</td>\n",
       "      <td>b</td>\n",
       "      <td>b</td>\n",
       "      <td>b</td>\n",
       "      <td>u</td>\n",
       "      <td>b</td>\n",
       "      <td>b</td>\n",
       "    </tr>\n",
       "    <tr>\n",
       "      <th>2</th>\n",
       "      <td>x</td>\n",
       "      <td>c</td>\n",
       "      <td>y</td>\n",
       "      <td>c</td>\n",
       "      <td>d</td>\n",
       "      <td>c</td>\n",
       "      <td>c</td>\n",
       "    </tr>\n",
       "    <tr>\n",
       "      <th>3</th>\n",
       "      <td>s</td>\n",
       "      <td>d</td>\n",
       "      <td>z</td>\n",
       "      <td>d</td>\n",
       "      <td>v</td>\n",
       "      <td>d</td>\n",
       "      <td>d</td>\n",
       "    </tr>\n",
       "    <tr>\n",
       "      <th>4</th>\n",
       "      <td>g</td>\n",
       "      <td>e</td>\n",
       "      <td>t</td>\n",
       "      <td>e</td>\n",
       "      <td>w</td>\n",
       "      <td>e</td>\n",
       "      <td>e</td>\n",
       "    </tr>\n",
       "    <tr>\n",
       "      <th>5</th>\n",
       "      <td>f</td>\n",
       "      <td>f</td>\n",
       "      <td>f</td>\n",
       "      <td>f</td>\n",
       "      <td>a</td>\n",
       "      <td>f</td>\n",
       "      <td>f</td>\n",
       "    </tr>\n",
       "    <tr>\n",
       "      <th>6</th>\n",
       "      <td>h</td>\n",
       "      <td>g</td>\n",
       "      <td>m</td>\n",
       "      <td>g</td>\n",
       "      <td>m</td>\n",
       "      <td>g</td>\n",
       "      <td>g</td>\n",
       "    </tr>\n",
       "    <tr>\n",
       "      <th>7</th>\n",
       "      <td>k</td>\n",
       "      <td>h</td>\n",
       "      <td>j</td>\n",
       "      <td>h</td>\n",
       "      <td>l</td>\n",
       "      <td>h</td>\n",
       "      <td>h</td>\n",
       "    </tr>\n",
       "    <tr>\n",
       "      <th>8</th>\n",
       "      <td>w</td>\n",
       "      <td>i</td>\n",
       "      <td>s</td>\n",
       "      <td>i</td>\n",
       "      <td>q</td>\n",
       "      <td>i</td>\n",
       "      <td>i</td>\n",
       "    </tr>\n",
       "    <tr>\n",
       "      <th>9</th>\n",
       "      <td>u</td>\n",
       "      <td>j</td>\n",
       "      <td>a</td>\n",
       "      <td>j</td>\n",
       "      <td>n</td>\n",
       "      <td>j</td>\n",
       "      <td>j</td>\n",
       "    </tr>\n",
       "    <tr>\n",
       "      <th>10</th>\n",
       "      <td>e</td>\n",
       "      <td>k</td>\n",
       "      <td>e</td>\n",
       "      <td>k</td>\n",
       "      <td>r</td>\n",
       "      <td>k</td>\n",
       "      <td>k</td>\n",
       "    </tr>\n",
       "    <tr>\n",
       "      <th>11</th>\n",
       "      <td>c</td>\n",
       "      <td>l</td>\n",
       "      <td>o</td>\n",
       "      <td>l</td>\n",
       "      <td>i</td>\n",
       "      <td>l</td>\n",
       "      <td>l</td>\n",
       "    </tr>\n",
       "    <tr>\n",
       "      <th>12</th>\n",
       "      <td>v</td>\n",
       "      <td>m</td>\n",
       "      <td>u</td>\n",
       "      <td>m</td>\n",
       "      <td>f</td>\n",
       "      <td>m</td>\n",
       "      <td>m</td>\n",
       "    </tr>\n",
       "    <tr>\n",
       "      <th>13</th>\n",
       "      <td>d</td>\n",
       "      <td>n</td>\n",
       "      <td>h</td>\n",
       "      <td>n</td>\n",
       "      <td>p</td>\n",
       "      <td>n</td>\n",
       "      <td>n</td>\n",
       "    </tr>\n",
       "    <tr>\n",
       "      <th>14</th>\n",
       "      <td>r</td>\n",
       "      <td>o</td>\n",
       "      <td>i</td>\n",
       "      <td>o</td>\n",
       "      <td>b</td>\n",
       "      <td>o</td>\n",
       "      <td>o</td>\n",
       "    </tr>\n",
       "    <tr>\n",
       "      <th>15</th>\n",
       "      <td>l</td>\n",
       "      <td>p</td>\n",
       "      <td>g</td>\n",
       "      <td>p</td>\n",
       "      <td>o</td>\n",
       "      <td>p</td>\n",
       "      <td>p</td>\n",
       "    </tr>\n",
       "    <tr>\n",
       "      <th>16</th>\n",
       "      <td>t</td>\n",
       "      <td>q</td>\n",
       "      <td>w</td>\n",
       "      <td>q</td>\n",
       "      <td>e</td>\n",
       "      <td>q</td>\n",
       "      <td>q</td>\n",
       "    </tr>\n",
       "    <tr>\n",
       "      <th>17</th>\n",
       "      <td>j</td>\n",
       "      <td>r</td>\n",
       "      <td>n</td>\n",
       "      <td>r</td>\n",
       "      <td>t</td>\n",
       "      <td>r</td>\n",
       "      <td>r</td>\n",
       "    </tr>\n",
       "    <tr>\n",
       "      <th>18</th>\n",
       "      <td>z</td>\n",
       "      <td>s</td>\n",
       "      <td>l</td>\n",
       "      <td>s</td>\n",
       "      <td>y</td>\n",
       "      <td>s</td>\n",
       "      <td>s</td>\n",
       "    </tr>\n",
       "    <tr>\n",
       "      <th>19</th>\n",
       "      <td>p</td>\n",
       "      <td>t</td>\n",
       "      <td>d</td>\n",
       "      <td>t</td>\n",
       "      <td>s</td>\n",
       "      <td>t</td>\n",
       "      <td>t</td>\n",
       "    </tr>\n",
       "    <tr>\n",
       "      <th>20</th>\n",
       "      <td>q</td>\n",
       "      <td>u</td>\n",
       "      <td>r</td>\n",
       "      <td>u</td>\n",
       "      <td>g</td>\n",
       "      <td>u</td>\n",
       "      <td>u</td>\n",
       "    </tr>\n",
       "    <tr>\n",
       "      <th>21</th>\n",
       "      <td>i</td>\n",
       "      <td>v</td>\n",
       "      <td>p</td>\n",
       "      <td>v</td>\n",
       "      <td>c</td>\n",
       "      <td>v</td>\n",
       "      <td>v</td>\n",
       "    </tr>\n",
       "    <tr>\n",
       "      <th>22</th>\n",
       "      <td>b</td>\n",
       "      <td>w</td>\n",
       "      <td>k</td>\n",
       "      <td>w</td>\n",
       "      <td>z</td>\n",
       "      <td>w</td>\n",
       "      <td>w</td>\n",
       "    </tr>\n",
       "    <tr>\n",
       "      <th>23</th>\n",
       "      <td>n</td>\n",
       "      <td>x</td>\n",
       "      <td>v</td>\n",
       "      <td>x</td>\n",
       "      <td>x</td>\n",
       "      <td>x</td>\n",
       "      <td>x</td>\n",
       "    </tr>\n",
       "    <tr>\n",
       "      <th>24</th>\n",
       "      <td>y</td>\n",
       "      <td>y</td>\n",
       "      <td>c</td>\n",
       "      <td>y</td>\n",
       "      <td>h</td>\n",
       "      <td>y</td>\n",
       "      <td>y</td>\n",
       "    </tr>\n",
       "    <tr>\n",
       "      <th>25</th>\n",
       "      <td>m</td>\n",
       "      <td>z</td>\n",
       "      <td>x</td>\n",
       "      <td>z</td>\n",
       "      <td>k</td>\n",
       "      <td>z</td>\n",
       "      <td>z</td>\n",
       "    </tr>\n",
       "  </tbody>\n",
       "</table>\n",
       "</div>"
      ],
      "text/plain": [
       "   rotor1 alephba1 rotor2 alephba2 rotor3 alephba3 reflector\n",
       "0       o        a      q        a      j        a         a\n",
       "1       a        b      b        b      u        b         b\n",
       "2       x        c      y        c      d        c         c\n",
       "3       s        d      z        d      v        d         d\n",
       "4       g        e      t        e      w        e         e\n",
       "5       f        f      f        f      a        f         f\n",
       "6       h        g      m        g      m        g         g\n",
       "7       k        h      j        h      l        h         h\n",
       "8       w        i      s        i      q        i         i\n",
       "9       u        j      a        j      n        j         j\n",
       "10      e        k      e        k      r        k         k\n",
       "11      c        l      o        l      i        l         l\n",
       "12      v        m      u        m      f        m         m\n",
       "13      d        n      h        n      p        n         n\n",
       "14      r        o      i        o      b        o         o\n",
       "15      l        p      g        p      o        p         p\n",
       "16      t        q      w        q      e        q         q\n",
       "17      j        r      n        r      t        r         r\n",
       "18      z        s      l        s      y        s         s\n",
       "19      p        t      d        t      s        t         t\n",
       "20      q        u      r        u      g        u         u\n",
       "21      i        v      p        v      c        v         v\n",
       "22      b        w      k        w      z        w         w\n",
       "23      n        x      v        x      x        x         x\n",
       "24      y        y      c        y      h        y         y\n",
       "25      m        z      x        z      k        z         z"
      ]
     },
     "execution_count": 278,
     "metadata": {},
     "output_type": "execute_result"
    }
   ],
   "source": [
    "db=pd.DataFrame({\"rotor1\":rotor1,\"alephba1\":alephba,\"rotor2\":rotor2,\"alephba2\":alephba,\"rotor3\":rotor3,\"alephba3\":alephba,\"reflector\":reflector})\n",
    "db\n",
    "\n"
   ]
  },
  {
   "attachments": {},
   "cell_type": "markdown",
   "metadata": {},
   "source": [
    "### encryption"
   ]
  },
  {
   "attachments": {},
   "cell_type": "markdown",
   "metadata": {},
   "source": [
    "###  level 1"
   ]
  },
  {
   "attachments": {},
   "cell_type": "markdown",
   "metadata": {},
   "source": [
    "Get the element of alphabetic column 1 which is opposite to the input letter"
   ]
  },
  {
   "cell_type": "code",
   "execution_count": 279,
   "metadata": {},
   "outputs": [
    {
     "name": "stdout",
     "output_type": "stream",
     "text": [
      "6\n",
      "g\n"
     ]
    }
   ],
   "source": [
    "input_word=\"h\"\n",
    "\n",
    "index_w = db[db['rotor1'] == input_word].index[0]\n",
    "\n",
    "\n",
    "print(index_w)\n",
    "\n",
    "\n",
    "element_alephba1 = db.loc[index_w, 'alephba1']\n",
    "\n",
    "print(element_alephba1)\n",
    "\n"
   ]
  },
  {
   "attachments": {},
   "cell_type": "markdown",
   "metadata": {},
   "source": [
    "Getting the index of the alphabetic letter 1 like itself in the router column 2"
   ]
  },
  {
   "cell_type": "code",
   "execution_count": 280,
   "metadata": {},
   "outputs": [
    {
     "data": {
      "text/plain": [
       "15"
      ]
     },
     "execution_count": 280,
     "metadata": {},
     "output_type": "execute_result"
    }
   ],
   "source": [
    "\n",
    "index_w = db[db['rotor2'] == element_alephba1].index[0]\n",
    "\n",
    "index_w\n",
    "\n"
   ]
  },
  {
   "attachments": {},
   "cell_type": "markdown",
   "metadata": {},
   "source": [
    "Getting the opposite letter of rotor column 2 in alphabetic column 2"
   ]
  },
  {
   "cell_type": "code",
   "execution_count": 281,
   "metadata": {},
   "outputs": [
    {
     "name": "stdout",
     "output_type": "stream",
     "text": [
      "p\n"
     ]
    }
   ],
   "source": [
    "\n",
    "element_alephba2 = db.loc[index_w, 'alephba2']\n",
    "\n",
    "print(element_alephba2)\n",
    "\n"
   ]
  },
  {
   "attachments": {},
   "cell_type": "markdown",
   "metadata": {},
   "source": [
    "Getting the index of the alphabetic letter 2 like itself in the router column 3"
   ]
  },
  {
   "cell_type": "code",
   "execution_count": 282,
   "metadata": {},
   "outputs": [
    {
     "data": {
      "text/plain": [
       "13"
      ]
     },
     "execution_count": 282,
     "metadata": {},
     "output_type": "execute_result"
    }
   ],
   "source": [
    "\n",
    "index_w = db[db['rotor3'] == element_alephba2].index[0]\n",
    "\n",
    "index_w\n",
    "\n"
   ]
  },
  {
   "cell_type": "code",
   "execution_count": 283,
   "metadata": {},
   "outputs": [
    {
     "name": "stdout",
     "output_type": "stream",
     "text": [
      "n\n"
     ]
    }
   ],
   "source": [
    "element_alephba3 = db.loc[index_w, 'alephba3']\n",
    "\n",
    "print(element_alephba3)\n",
    "\n"
   ]
  },
  {
   "attachments": {},
   "cell_type": "markdown",
   "metadata": {},
   "source": [
    "Find the alphabetic letter of column 3 in the reflector dictionary"
   ]
  },
  {
   "cell_type": "code",
   "execution_count": 284,
   "metadata": {},
   "outputs": [
    {
     "data": {
      "text/plain": [
       "'m'"
      ]
     },
     "execution_count": 284,
     "metadata": {},
     "output_type": "execute_result"
    }
   ],
   "source": [
    "element_reflector=dict_reflector[element_alephba3]\n",
    "element_reflector"
   ]
  },
  {
   "attachments": {},
   "cell_type": "markdown",
   "metadata": {},
   "source": [
    "### level 2"
   ]
  },
  {
   "attachments": {},
   "cell_type": "markdown",
   "metadata": {},
   "source": [
    "Finding the index of the letter in the reflector, like the letter in the alphabetic column 3"
   ]
  },
  {
   "cell_type": "code",
   "execution_count": 285,
   "metadata": {},
   "outputs": [
    {
     "name": "stdout",
     "output_type": "stream",
     "text": [
      "12\n"
     ]
    }
   ],
   "source": [
    "index=0\n",
    "\n",
    "for boolean in (db[\"alephba3\"]==element_reflector):\n",
    "    if boolean :\n",
    "        \n",
    "        index_w=index\n",
    "        print(index_w)\n",
    "    index+=1\n",
    "    \n",
    "\n",
    "    \n"
   ]
  },
  {
   "attachments": {},
   "cell_type": "markdown",
   "metadata": {},
   "source": [
    "Getting the opposite letter of the alphabetic column 3 in the rotor column 3"
   ]
  },
  {
   "cell_type": "code",
   "execution_count": 286,
   "metadata": {},
   "outputs": [
    {
     "name": "stdout",
     "output_type": "stream",
     "text": [
      "f\n"
     ]
    }
   ],
   "source": [
    "\n",
    "element_rotor3 = db.loc[index_w, 'rotor3']\n",
    "\n",
    "print(element_rotor3)\n",
    "\n"
   ]
  },
  {
   "attachments": {},
   "cell_type": "markdown",
   "metadata": {},
   "source": [
    "Find the index of the letter inside the rotor 2, which is the same as the letter of the alphabetic column 2"
   ]
  },
  {
   "cell_type": "code",
   "execution_count": 287,
   "metadata": {},
   "outputs": [
    {
     "name": "stdout",
     "output_type": "stream",
     "text": [
      "5\n"
     ]
    }
   ],
   "source": [
    "index=0\n",
    "\n",
    "for boolean in (db[\"alephba2\"]==element_rotor3):\n",
    "    if boolean :\n",
    "        \n",
    "        index_w=index\n",
    "        print(index_w)\n",
    "    index+=1\n",
    "    \n",
    "\n",
    "    \n"
   ]
  },
  {
   "attachments": {},
   "cell_type": "markdown",
   "metadata": {},
   "source": [
    "Getting the opposite letter of alphabet column 2 in rotor column 2"
   ]
  },
  {
   "cell_type": "code",
   "execution_count": 288,
   "metadata": {},
   "outputs": [
    {
     "name": "stdout",
     "output_type": "stream",
     "text": [
      "f\n"
     ]
    }
   ],
   "source": [
    "\n",
    "element_rotor2 = db.loc[index_w, 'rotor2']\n",
    "\n",
    "print(element_rotor2)\n",
    "\n"
   ]
  },
  {
   "attachments": {},
   "cell_type": "markdown",
   "metadata": {},
   "source": [
    "Find the index of the letter in the rotor 1 like the letter in the alphabetic column 1"
   ]
  },
  {
   "cell_type": "code",
   "execution_count": 289,
   "metadata": {},
   "outputs": [
    {
     "name": "stdout",
     "output_type": "stream",
     "text": [
      "5\n"
     ]
    }
   ],
   "source": [
    "index=0\n",
    "\n",
    "for boolean in (db[\"alephba1\"]==element_rotor2):\n",
    "    if boolean :\n",
    "        \n",
    "        index_w=index\n",
    "        print(index_w)\n",
    "    index+=1\n",
    "    \n",
    "\n",
    "    \n"
   ]
  },
  {
   "attachments": {},
   "cell_type": "markdown",
   "metadata": {},
   "source": [
    "Getting the opposite letter of alphabet column 1 in rotor column 1\n",
    "\n",
    "Finally get the password"
   ]
  },
  {
   "cell_type": "code",
   "execution_count": 290,
   "metadata": {},
   "outputs": [
    {
     "name": "stdout",
     "output_type": "stream",
     "text": [
      "f :password\n"
     ]
    }
   ],
   "source": [
    "\n",
    "element_rotor1 = db.loc[index_w, 'rotor1']\n",
    "\n",
    "print(element_rotor1,\":password\")\n",
    "\n"
   ]
  },
  {
   "attachments": {},
   "cell_type": "markdown",
   "metadata": {},
   "source": [
    "### desired function"
   ]
  },
  {
   "cell_type": "code",
   "execution_count": 291,
   "metadata": {},
   "outputs": [
    {
     "name": "stdout",
     "output_type": "stream",
     "text": [
      "['o', 'a', 'x', 's', 'g', 'f', 'h', 'k', 'w', 'u', 'e', 'c', 'v', 'd', 'r', 'l', 't', 'j', 'z', 'p', 'q', 'i', 'b', 'n', 'y', 'm']\n",
      "['a', 'x', 's', 'g', 'f', 'h', 'k', 'w', 'u', 'e', 'c', 'v', 'd', 'r', 'l', 't', 'j', 'z', 'p', 'q', 'i', 'b', 'n', 'y', 'm', 'o']\n"
     ]
    },
    {
     "data": {
      "text/plain": [
       "'23451'"
      ]
     },
     "execution_count": 291,
     "metadata": {},
     "output_type": "execute_result"
    }
   ],
   "source": [
    "#1 Advance all list elements by one index\n",
    "\n",
    "def move(input_list):\n",
    "    \n",
    "    change_list=input_list.copy()\n",
    "    \n",
    "    move=-1\n",
    "    for num in input_list:\n",
    "        change_list[move]=num\n",
    "        move+=1\n",
    "        if move==len(input_list):\n",
    "            move=0\n",
    "            \n",
    "    return change_list\n",
    "\n",
    "\n",
    "# for example \n",
    "\n",
    "print(rotor1)\n",
    "    \n",
    "    \n",
    "rotor1=move(rotor1)\n",
    "    \n",
    "    \n",
    "print(rotor1)\n",
    "\n",
    "\n",
    "\n",
    "#2 Advance all string elements by one index\n",
    "\n",
    "x=\"12345\"\n",
    "\n",
    "x[1:]+x[0]"
   ]
  },
  {
   "attachments": {},
   "cell_type": "markdown",
   "metadata": {},
   "source": [
    "change word with request of user"
   ]
  },
  {
   "cell_type": "code",
   "execution_count": 292,
   "metadata": {},
   "outputs": [
    {
     "data": {
      "text/plain": [
       "{'x': 'a'}"
      ]
     },
     "execution_count": 292,
     "metadata": {},
     "output_type": "execute_result"
    }
   ],
   "source": [
    "dic_change_letter={}\n",
    "\n",
    "num=0\n",
    "\n",
    "while True:\n",
    "    \n",
    "    num=int(input(\"do you wana change word enter 1 if  you dont  this enter -1 \"))\n",
    "    if num==-1:\n",
    "        break\n",
    "    word_ch=input(\"enter your word \")\n",
    "    word_Produced=input(\"enter your word productive \")\n",
    "    \n",
    "    dic_change_letter[word_ch]=word_Produced\n",
    "    \n",
    "dic_change_letter"
   ]
  },
  {
   "cell_type": "code",
   "execution_count": 293,
   "metadata": {},
   "outputs": [],
   "source": [
    "state_of_rotos=0\n",
    "def change_rotors():\n",
    "    global rotor1, rotor2 ,rotor3,state_of_rotos\n",
    "    \n",
    "\n",
    "    rotor1=move(rotor1)\n",
    "    db[\"rotor1\"]=rotor1\n",
    "    if state_of_rotos%26==0:\n",
    "        rotor2=move(rotor2)\n",
    "        \n",
    "        db[\"rotor2\"]=rotor2\n",
    "\n",
    "\n",
    "    if state_of_rotos%(26*26)==0:\n",
    "        rotor3=move(rotor3)\n",
    "        db[\"rotor3\"]=rotor3\n"
   ]
  },
  {
   "cell_type": "code",
   "execution_count": 309,
   "metadata": {},
   "outputs": [],
   "source": [
    "\n",
    "\n",
    "    \n",
    "\n",
    "def create_encrypt(my_text):\n",
    "    \n",
    "    \n",
    "\n",
    "    \n",
    "    \n",
    "    global state_of_rotos\n",
    "    \n",
    "    \n",
    "    #level 1\n",
    "    \n",
    "    my_en=\"\"\n",
    "    \n",
    "    for word in my_text: \n",
    "        \n",
    "        # adding space if  exist\n",
    "        \n",
    "        if word==\" \":\n",
    "            my_en+=\" \"\n",
    "            continue\n",
    "        \n",
    "        else:\n",
    "            index_w = db[db['rotor1'] == word].index[0]\n",
    "            \n",
    "            element_alephba1 = db.loc[index_w, 'alephba1']\n",
    "\n",
    "            \n",
    "\n",
    "            index_w = db[db['rotor2'] == element_alephba1].index[0]\n",
    "\n",
    "            element_alephba2 = db.loc[index_w, 'alephba2']\n",
    "\n",
    "            \n",
    "\n",
    "\n",
    "            index_w = db[db['rotor3'] == element_alephba2].index[0]\n",
    "\n",
    "            element_alephba3 = db.loc[index_w, 'alephba3']\n",
    "\n",
    "            \n",
    "\n",
    "\n",
    "            element_reflector=dict_reflector[element_alephba3]\n",
    "            element_reflector\n",
    "\n",
    "            \n",
    "            \n",
    "            #level 2\n",
    "            \n",
    "            index_w = db[db['alephba3'] == element_reflector].index[0]\n",
    "            \n",
    "            element_rotor3 = db.loc[index_w, 'rotor3']\n",
    "\n",
    "            \n",
    "\n",
    "\n",
    "            index_w = db[db['alephba2'] == element_rotor3].index[0]\n",
    "\n",
    "            element_rotor2 = db.loc[index_w, 'rotor2']\n",
    "\n",
    "        \n",
    "\n",
    "            index_w = db[db['alephba1'] == element_rotor2].index[0]\n",
    "            \n",
    "            element_rotor1 = db.loc[index_w, 'rotor1']\n",
    "            \n",
    "            my_en+=element_rotor1\n",
    "            \n",
    "        state_of_rotos+=1\n",
    "        change_rotors()\n",
    "    return my_en\n",
    "\n",
    "\n"
   ]
  },
  {
   "attachments": {},
   "cell_type": "markdown",
   "metadata": {},
   "source": [
    "get input word and change letter that you want cahnge to any letter"
   ]
  },
  {
   "cell_type": "code",
   "execution_count": 315,
   "metadata": {},
   "outputs": [
    {
     "name": "stdout",
     "output_type": "stream",
     "text": [
      "my text: barwpg\n",
      "your encryption:  duentj\n",
      "state_of_rotos:  0\n"
     ]
    }
   ],
   "source": [
    "my_text=\"barwpg\"\n",
    "\n",
    "for word_ch , word_Produced in dic_change_letter.items():\n",
    "        for word in my_text:\n",
    "            if word==word_ch:\n",
    "                my_text=my_text.replace(word_ch,word_Produced)\n",
    "                \n",
    "print(\"my text:\",my_text)       \n",
    "        \n",
    "        \n",
    "\n",
    "print(\"your encryption: \",create_encrypt(my_text))\n",
    "\n",
    "print(\"state_of_rotos: \",state_of_rotos)"
   ]
  }
 ],
 "metadata": {
  "kernelspec": {
   "display_name": "Python 3",
   "language": "python",
   "name": "python3"
  },
  "language_info": {
   "codemirror_mode": {
    "name": "ipython",
    "version": 3
   },
   "file_extension": ".py",
   "mimetype": "text/x-python",
   "name": "python",
   "nbconvert_exporter": "python",
   "pygments_lexer": "ipython3",
   "version": "3.11.1"
  },
  "orig_nbformat": 4
 },
 "nbformat": 4,
 "nbformat_minor": 2
}
